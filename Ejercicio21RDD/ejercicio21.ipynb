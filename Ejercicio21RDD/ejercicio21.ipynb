{
 "cells": [
  {
   "cell_type": "code",
   "execution_count": 15,
   "metadata": {
    "scrolled": true
   },
   "outputs": [
    {
     "name": "stdout",
     "output_type": "stream",
     "text": [
      "+------+-------+-------+\n",
      "|  pais| nombre| ciudad|\n",
      "+------+-------+-------+\n",
      "|España|Barajas| Madrid|\n",
      "|España|    JAU|Granada|\n",
      "+------+-------+-------+\n",
      "\n",
      "+----------+-------+\n",
      "|    nombre|altitud|\n",
      "+----------+-------+\n",
      "|   Pearson|     67|\n",
      "|Domodedovo|     54|\n",
      "+----------+-------+\n",
      "\n"
     ]
    }
   ],
   "source": [
    "from pyspark.sql import Row\n",
    "\n",
    "def funcionDF(x):\n",
    "    return ( Row (aeropuerto=int(x[0]), nombre=x[1], ciudad=x[2], pais=x[3],latitud=int(x[4]), altitud=int(x[5]), longitud=int(x[6]), zonaHoraria=x[7]))\n",
    "\n",
    "aeropuertos = sc.textFile('aeropuertos.csv').map(lambda x: x.split(',')).map(funcionDF).collect()\n",
    "\n",
    "df = sqlContext.createDataFrame(aeropuertos)\n",
    "sqlContext.registerDataFrameAsTable(df,\"aeropuerto\")\n",
    "df.registerTempTable(\"aeropuerto\")\n",
    "\n",
    "aeropuertosEspaña=sqlContext.sql(\"Select pais, nombre, ciudad from aeropuerto where pais='España'\")\n",
    "aeropuertosEspaña.show()\n",
    "aeropuertosEspaña.write.csv('aeropuertosEspaña.csv')\n",
    "\n",
    "latitud40=sqlContext.sql(\"Select nombre, altitud from aeropuerto where altitud > 40\")\n",
    "latitud40.show()\n",
    "latitud40.write.csv('altitud40.csv')"
   ]
  },
  {
   "cell_type": "code",
   "execution_count": null,
   "metadata": {},
   "outputs": [],
   "source": []
  }
 ],
 "metadata": {
  "kernelspec": {
   "display_name": "Python 3",
   "language": "python",
   "name": "python3"
  },
  "language_info": {
   "codemirror_mode": {
    "name": "ipython",
    "version": 3
   },
   "file_extension": ".py",
   "mimetype": "text/x-python",
   "name": "python",
   "nbconvert_exporter": "python",
   "pygments_lexer": "ipython3",
   "version": "3.5.5"
  }
 },
 "nbformat": 4,
 "nbformat_minor": 2
}
