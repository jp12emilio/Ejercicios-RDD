{
 "cells": [
  {
   "cell_type": "code",
   "execution_count": 12,
   "metadata": {},
   "outputs": [
    {
     "name": "stdout",
     "output_type": "stream",
     "text": [
      "0.8222222222222221\n"
     ]
    }
   ],
   "source": [
    "grados = sc.parallelize([(\"España\",-2),(\"Portugal\",-6),(\"Francia\",2),(\"Italia\",18.4),\n",
    "                         (\"Alemania\",18.5),(\"Andorra\",18.5),(\"Grecia\",-1),(\"EE.UU\",-15),(\"Canada\",-26)]).collect()  \n",
    "i = 0\n",
    "j = 0\n",
    "for x in grados:\n",
    "    i=i+x[1]\n",
    "    j=j+1\n",
    "print(i/j)"
   ]
  },
  {
   "cell_type": "code",
   "execution_count": null,
   "metadata": {},
   "outputs": [],
   "source": []
  }
 ],
 "metadata": {
  "kernelspec": {
   "display_name": "Python 3",
   "language": "python",
   "name": "python3"
  },
  "language_info": {
   "codemirror_mode": {
    "name": "ipython",
    "version": 3
   },
   "file_extension": ".py",
   "mimetype": "text/x-python",
   "name": "python",
   "nbconvert_exporter": "python",
   "pygments_lexer": "ipython3",
   "version": "3.5.5"
  }
 },
 "nbformat": 4,
 "nbformat_minor": 2
}
