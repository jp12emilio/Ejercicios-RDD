{
 "cells": [
  {
   "cell_type": "code",
   "execution_count": 9,
   "metadata": {},
   "outputs": [
    {
     "data": {
      "text/plain": [
       "<matplotlib.axes._subplots.AxesSubplot at 0x7fcce5dd87f0>"
      ]
     },
     "execution_count": 9,
     "metadata": {},
     "output_type": "execute_result"
    },
    {
     "data": {
      "image/png": "[encoded data removed]",
      "text/plain": [
       "<Figure size 432x288 with 1 Axes>"
      ]
     },
     "metadata": {},
     "output_type": "display_data"
    }
   ],
   "source": [
    "from pyspark.sql import Row\n",
    "\n",
    "grados = sc.parallelize([(2013,-2),(2014,-6),(2015,2),(2016,18.4),\n",
    "                         (2017,18.5),(2018,18.5),(2019,-1),(2012,-15),(2011,-26)])    \n",
    "ordenGrados = grados.sortBy(lambda pair: pair[1], ascending=False)\n",
    "grafica = ordenGrados.map(lambda x: Row(Años=int(x[0]), Temperaturas=int(x[1]))).collect()\n",
    "graficaTemp= sqlContext.createDataFrame(grafica)\n",
    "graficaTemp.toPandas().plot(kind=\"bar\",x='Años',y='Temperaturas')"
   ]
  },
  {
   "cell_type": "code",
   "execution_count": null,
   "metadata": {},
   "outputs": [],
   "source": []
  }
 ],
 "metadata": {
  "kernelspec": {
   "display_name": "Python 3",
   "language": "python",
   "name": "python3"
  },
  "language_info": {
   "codemirror_mode": {
    "name": "ipython",
    "version": 3
   },
   "file_extension": ".py",
   "mimetype": "text/x-python",
   "name": "python",
   "nbconvert_exporter": "python",
   "pygments_lexer": "ipython3",
   "version": "3.5.5"
  }
 },
 "nbformat": 4,
 "nbformat_minor": 2
}
