{
 "cells": [
  {
   "cell_type": "code",
   "execution_count": 2,
   "metadata": {},
   "outputs": [
    {
     "name": "stdout",
     "output_type": "stream",
     "text": [
      "[(0, ('Emilio', 'Xbox')), (4, ('David', 'Cachimba')), (1, ('Pepe', 'Futbol')), (2, ('Javi', 'Fiesta')), (3, ('Dani', None))]\n"
     ]
    }
   ],
   "source": [
    "usuarios=sc.parallelize([(0,'Emilio'),(1,'Pepe'),(2,'Javi'),(3,\"Dani\"),(4,\"David\")])\n",
    "hobbies=sc.parallelize([(0,'Xbox'),(1,'Futbol'),(2,'Fiesta'),(4,\"Cachimba\")])\n",
    "\n",
    "usuarioHobbie = usuarios.fullOuterJoin(hobbies).collect()\n",
    "print(usuarioHobbie)"
   ]
  },
  {
   "cell_type": "code",
   "execution_count": null,
   "metadata": {},
   "outputs": [],
   "source": []
  }
 ],
 "metadata": {
  "kernelspec": {
   "display_name": "Python 3",
   "language": "python",
   "name": "python3"
  },
  "language_info": {
   "codemirror_mode": {
    "name": "ipython",
    "version": 3
   },
   "file_extension": ".py",
   "mimetype": "text/x-python",
   "name": "python",
   "nbconvert_exporter": "python",
   "pygments_lexer": "ipython3",
   "version": "3.5.5"
  }
 },
 "nbformat": 4,
 "nbformat_minor": 2
}
