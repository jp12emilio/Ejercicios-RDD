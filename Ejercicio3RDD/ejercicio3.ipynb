{
 "cells": [
  {
   "cell_type": "code",
   "execution_count": 3,
   "metadata": {},
   "outputs": [
    {
     "name": "stdout",
     "output_type": "stream",
     "text": [
      "216 Es par\n",
      "512 Es par\n",
      "64 Es par\n"
     ]
    }
   ],
   "source": [
    "def mostrarNumeroPar():\n",
    "    listaNumeros=sc.parallelize([1,5,6,8,4]).map(lambda x:(x*x*x)).collect()\n",
    "    for x in listaNumeros:\n",
    "        if (x % 2==0):\n",
    "            print(x,\"Es par\")\n",
    "mostrarNumeroPar()\n"
   ]
  },
  {
   "cell_type": "code",
   "execution_count": null,
   "metadata": {},
   "outputs": [],
   "source": []
  }
 ],
 "metadata": {
  "kernelspec": {
   "display_name": "Python 3",
   "language": "python",
   "name": "python3"
  },
  "language_info": {
   "codemirror_mode": {
    "name": "ipython",
    "version": 3
   },
   "file_extension": ".py",
   "mimetype": "text/x-python",
   "name": "python",
   "nbconvert_exporter": "python",
   "pygments_lexer": "ipython3",
   "version": "3.5.5"
  }
 },
 "nbformat": 4,
 "nbformat_minor": 2
}
