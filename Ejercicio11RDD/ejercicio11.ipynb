{
 "cells": [
  {
   "cell_type": "code",
   "execution_count": 9,
   "metadata": {},
   "outputs": [
    {
     "name": "stdout",
     "output_type": "stream",
     "text": [
      "[(2013, 49.7), (2014, 50.3), (2015, 50.4), (2016, 50.4), (2017, 50.5)]\n"
     ]
    }
   ],
   "source": [
    "gradosCelsius = sc.parallelize([(2013,17.7),(2014,18.3),(2015,18.4),(2016,18.4),(2017,18.5)])\n",
    "gradosFahrenheit = gradosCelsius.mapValues(lambda x: (x+32.0)).collect()\n",
    "print(gradosFahrenheit)"
   ]
  },
  {
   "cell_type": "code",
   "execution_count": null,
   "metadata": {},
   "outputs": [],
   "source": []
  }
 ],
 "metadata": {
  "kernelspec": {
   "display_name": "Python 3",
   "language": "python",
   "name": "python3"
  },
  "language_info": {
   "codemirror_mode": {
    "name": "ipython",
    "version": 3
   },
   "file_extension": ".py",
   "mimetype": "text/x-python",
   "name": "python",
   "nbconvert_exporter": "python",
   "pygments_lexer": "ipython3",
   "version": "3.5.5"
  }
 },
 "nbformat": 4,
 "nbformat_minor": 2
}
