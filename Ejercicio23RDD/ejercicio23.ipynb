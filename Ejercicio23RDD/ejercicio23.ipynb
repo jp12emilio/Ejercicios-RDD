{
 "cells": [
  {
   "cell_type": "code",
   "execution_count": 9,
   "metadata": {
    "scrolled": true
   },
   "outputs": [
    {
     "name": "stdout",
     "output_type": "stream",
     "text": [
      "+--------------------+--------+\n",
      "|              nombre|medallas|\n",
      "+--------------------+--------+\n",
      "|Mireya Acevedo Mejía|     Oro|\n",
      "|   José Acosta Gámez|     Oro|\n",
      "|Marcela Aguilar P...|     Oro|\n",
      "|Alejo Guerrero Ma...|     Oro|\n",
      "+--------------------+--------+\n",
      "\n"
     ]
    }
   ],
   "source": [
    "from pyspark.sql import Row\n",
    "\n",
    "def funcionDF(x):return ( Row (nombre=x[0], medallas=x[1], edad=int(x[2])))\n",
    "\n",
    "medallistasOlimpicos = sc.textFile('medallistasOlimpicos.csv').map(lambda x: x.split(',')).map(funcionDF).collect()\n",
    "df = sqlContext.createDataFrame(medallistasOlimpicos)\n",
    "sqlContext.registerDataFrameAsTable(df,'medallistas')\n",
    "df.registerTempTable('medallistas')\n",
    "\n",
    "medallistasOro = sqlContext.sql(\"Select nombre, medallas from medallistas where medallas='Oro'\")\n",
    "medallistasOro.show()\n",
    "\n",
    "medallistasPlata = sqlContext.sql(\"Select nombre, medallas from medallistas where medallas='Oro'\")\n",
    "medallistasPlata.show()\n",
    "\n",
    "medallistasBronce = sqlContext.sql(\"Select nombre, medallas from medallistas where medallas='Oro'\")\n",
    "medallistasBronce.show()"
   ]
  },
  {
   "cell_type": "code",
   "execution_count": null,
   "metadata": {},
   "outputs": [],
   "source": []
  }
 ],
 "metadata": {
  "kernelspec": {
   "display_name": "Python 3",
   "language": "python",
   "name": "python3"
  },
  "language_info": {
   "codemirror_mode": {
    "name": "ipython",
    "version": 3
   },
   "file_extension": ".py",
   "mimetype": "text/x-python",
   "name": "python",
   "nbconvert_exporter": "python",
   "pygments_lexer": "ipython3",
   "version": "3.5.5"
  }
 },
 "nbformat": 4,
 "nbformat_minor": 2
}
