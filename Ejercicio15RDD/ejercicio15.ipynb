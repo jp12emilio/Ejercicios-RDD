{
 "cells": [
  {
   "cell_type": "code",
   "execution_count": 1,
   "metadata": {},
   "outputs": [
    {
     "name": "stdout",
     "output_type": "stream",
     "text": [
      "[('España', 21.42), ('Portugal', 16.32), ('Francia', 19.38), ('Italia', 18.36), ('Alemania', 30.6), ('Andorra', 10.2)]\n"
     ]
    }
   ],
   "source": [
    "paisesIva = sc.parallelize([(\"España\",21),(\"Portugal\",16),(\"Francia\",19),(\"Italia\",18),\n",
    "                         (\"Alemania\",30),(\"Andorra\",10)])\n",
    "incremento = paisesIva.mapValues(lambda x: x+((x*2)/100)).collect()\n",
    "print(incremento)\n"
   ]
  },
  {
   "cell_type": "code",
   "execution_count": null,
   "metadata": {},
   "outputs": [],
   "source": []
  }
 ],
 "metadata": {
  "kernelspec": {
   "display_name": "Python 3",
   "language": "python",
   "name": "python3"
  },
  "language_info": {
   "codemirror_mode": {
    "name": "ipython",
    "version": 3
   },
   "file_extension": ".py",
   "mimetype": "text/x-python",
   "name": "python",
   "nbconvert_exporter": "python",
   "pygments_lexer": "ipython3",
   "version": "3.5.5"
  }
 },
 "nbformat": 4,
 "nbformat_minor": 2
}
