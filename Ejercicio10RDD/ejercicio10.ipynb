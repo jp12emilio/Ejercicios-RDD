{
 "cells": [
  {
   "cell_type": "code",
   "execution_count": 5,
   "metadata": {},
   "outputs": [
    {
     "name": "stdout",
     "output_type": "stream",
     "text": [
      "marcos\n",
      "alfonso\n",
      "manueh\n"
     ]
    }
   ],
   "source": [
    "nombres = sc.parallelize([\"emilio\",\"marcos\",\"alfonso\",\"jesus\",\"manueh\"]).collect()\n",
    "letraNombre = \"a\"\n",
    "for i in nombres: \n",
    "    if letraNombre in i:\n",
    "        print(i)"
   ]
  },
  {
   "cell_type": "code",
   "execution_count": null,
   "metadata": {},
   "outputs": [],
   "source": []
  }
 ],
 "metadata": {
  "kernelspec": {
   "display_name": "Python 3",
   "language": "python",
   "name": "python3"
  },
  "language_info": {
   "codemirror_mode": {
    "name": "ipython",
    "version": 3
   },
   "file_extension": ".py",
   "mimetype": "text/x-python",
   "name": "python",
   "nbconvert_exporter": "python",
   "pygments_lexer": "ipython3",
   "version": "3.5.5"
  }
 },
 "nbformat": 4,
 "nbformat_minor": 2
}
