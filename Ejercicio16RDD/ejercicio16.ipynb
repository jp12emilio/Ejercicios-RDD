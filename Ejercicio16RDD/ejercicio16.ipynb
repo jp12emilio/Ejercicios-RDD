{
 "cells": [
  {
   "cell_type": "code",
   "execution_count": 2,
   "metadata": {},
   "outputs": [
    {
     "name": "stdout",
     "output_type": "stream",
     "text": [
      "[('remaining', 1), ('dummy', 2), ('was', 1), ('into', 1), ('when', 1), ('is', 1), ('1500s,', 1), ('PageMaker', 1), ('printing', 1), ('an', 1), ('galley', 1), ('in', 1), ('desktop', 1), ('of', 4), ('only', 1), ('type', 2), ('took', 1), ('make', 1), ('typesetting,', 1), ('like', 1), ('Aldus', 1), ('unknown', 1), ('1960s', 1), ('It', 2), ('essentially', 1), ('versions', 1), ('typesetting', 1), ('passages,', 1), ('ever', 1), ('book.', 1), (\"industry's\", 1), ('but', 1), ('more', 1), ('specimen', 1), ('centuries,', 1), ('standard', 1), ('industry.', 1), ('a', 2), ('survived', 1), ('to', 1), ('not', 1), ('also', 1), ('the', 6), ('release', 1), ('has', 2), ('sheets', 1), ('printer', 1), ('five', 1), ('with', 2), ('simply', 1), ('electronic', 1), ('since', 1), ('Ipsum.', 1), ('it', 1), ('scrambled', 1), ('including', 1), ('Letraset', 1), ('recently', 1), ('publishing', 1), ('popularised', 1), ('software', 1), ('containing', 1), ('text', 2), ('been', 1), ('and', 3), ('unchanged.', 1), ('leap', 1)]\n"
     ]
    }
   ],
   "source": [
    "palabrasProhibidas=sc.parallelize(['Lorem','Ipsum']).collect()\n",
    "contarPalabras = sc.textFile('texto').flatMap(lambda palabra: palabra.split(' ')).filter(lambda y: y not in palabrasProhibidas).map(lambda y: (y,1)).reduceByKey(lambda a, b: a + b).collect()\n",
    "print(contarPalabras)"
   ]
  },
  {
   "cell_type": "code",
   "execution_count": null,
   "metadata": {},
   "outputs": [],
   "source": []
  }
 ],
 "metadata": {
  "kernelspec": {
   "display_name": "Python 3",
   "language": "python",
   "name": "python3"
  },
  "language_info": {
   "codemirror_mode": {
    "name": "ipython",
    "version": 3
   },
   "file_extension": ".py",
   "mimetype": "text/x-python",
   "name": "python",
   "nbconvert_exporter": "python",
   "pygments_lexer": "ipython3",
   "version": "3.5.5"
  }
 },
 "nbformat": 4,
 "nbformat_minor": 2
}
