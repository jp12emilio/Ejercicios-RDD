{
 "cells": [
  {
   "cell_type": "code",
   "execution_count": 3,
   "metadata": {},
   "outputs": [
    {
     "name": "stdout",
     "output_type": "stream",
     "text": [
      "[(2013, -2), (2014, -6), (2019, -1), (2012, -15), (2011, -26)]\n"
     ]
    }
   ],
   "source": [
    "#Temperaturas bajo cero\n",
    "grados = sc.parallelize([(2013,-2),(2014,-6),(2015,2),(2016,18.4),\n",
    "                         (2017,18.5),(2018,18.5),(2019,-1),(2012,-15),(2011,-26)])\n",
    "gradosBajoCero = grados.filter(lambda x: x[1] < 0).collect()\n",
    "print(gradosBajoCero)"
   ]
  },
  {
   "cell_type": "code",
   "execution_count": 9,
   "metadata": {},
   "outputs": [
    {
     "name": "stdout",
     "output_type": "stream",
     "text": [
      "[(2011, -26), (2012, -15), (2014, -6)]\n"
     ]
    }
   ],
   "source": [
    "#Las tres temperaturas bajo cero mas bajas\n",
    "grados = sc.parallelize([(2013,-2),(2014,-6),(2015,2),(2016,18.4),\n",
    "                         (2017,18.5),(2018,18.5),(2019,-1),(2012,-15),(2011,-26)])\n",
    "gradosBajoCero = grados.takeOrdered(3, key=lambda x: x[1])\n",
    "print(gradosBajoCero)"
   ]
  },
  {
   "cell_type": "code",
   "execution_count": 8,
   "metadata": {},
   "outputs": [
    {
     "name": "stdout",
     "output_type": "stream",
     "text": [
      "[(2013, -2), (2014, -6), (2019, -1)]\n"
     ]
    }
   ],
   "source": [
    "#Las tres temperaturas bajo cero mas altas\n",
    "grados = sc.parallelize([(2013,-2),(2014,-6),(2015,2),(2016,18.4),\n",
    "                         (2017,18.5),(2018,18.5),(2019,-1),(2012,-15),(2011,-26)])\n",
    "gradosBajoCero = grados.takeOrdered(3, key=lambda x: x[1] > 0)\n",
    "print(gradosBajoCero)"
   ]
  },
  {
   "cell_type": "code",
   "execution_count": null,
   "metadata": {},
   "outputs": [],
   "source": []
  }
 ],
 "metadata": {
  "kernelspec": {
   "display_name": "Python 3",
   "language": "python",
   "name": "python3"
  },
  "language_info": {
   "codemirror_mode": {
    "name": "ipython",
    "version": 3
   },
   "file_extension": ".py",
   "mimetype": "text/x-python",
   "name": "python",
   "nbconvert_exporter": "python",
   "pygments_lexer": "ipython3",
   "version": "3.5.5"
  }
 },
 "nbformat": 4,
 "nbformat_minor": 2
}
